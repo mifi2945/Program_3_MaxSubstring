{
 "cells": [
  {
   "cell_type": "markdown",
   "metadata": {},
   "source": [
    "# Program 3: Maximal Substring\n",
    "## Members: Daniel Deal, Mikhal Filippov, Samuel Hohenstein\n",
    "In this programming assignment, we are to use the ideas of **dynamic programming** in order to optimize the `MaximalSubstring` algorithm. We will then test it, prove its correctness, and to runtime analysis."
   ]
  },
  {
   "cell_type": "markdown",
   "metadata": {},
   "source": [
    "### Solution Approach\n",
    "\n",
    "TODO\n",
    "\n",
    "---"
   ]
  },
  {
   "cell_type": "markdown",
   "metadata": {},
   "source": [
    "### Pseudocode\n",
    "\n",
    "```text\n",
    "FUNCTION MaxSubstring(A, B):\n",
    "    n = A.length\n",
    "    m = B.length\n",
    "    lengths = [ [0]*(m+1) ] * (n+1)\n",
    "    max_length = 0\n",
    "    end_index = 0\n",
    "\n",
    "    FOR i = 1...n DO:\n",
    "        FOR j = 1...m DO:\n",
    "            IF A[i-1] == B[j-1] THEN:\n",
    "                lengths[i][j] = lengths[i-1][j-1] + 1\n",
    "\n",
    "                IF lengths[i][j] > max_length THEN:\n",
    "                    max_length = lengths[i][j]\n",
    "                    end_index = i\n",
    "                END IF\n",
    "                \n",
    "            ELSE:\n",
    "                lengths[i][j] = 0\n",
    "            END IF\n",
    "        END FOR\n",
    "    END FOR\n",
    "\n",
    "    start_index = end_index-max_length\n",
    "    RETURN A[start_index:end_index]\n",
    "```\n",
    "\n",
    "---"
   ]
  },
  {
   "cell_type": "markdown",
   "metadata": {},
   "source": [
    "### Proof of Correctness\n",
    "\n",
    "TODO\n",
    "\n",
    "---"
   ]
  },
  {
   "cell_type": "markdown",
   "metadata": {},
   "source": [
    "### Test Cases\n",
    "\n",
    "TODO\n",
    "\n",
    "---"
   ]
  },
  {
   "cell_type": "markdown",
   "metadata": {},
   "source": [
    "### Runtime Analysis\n",
    "\n",
    "TODO\n",
    "\n",
    "---"
   ]
  },
  {
   "cell_type": "markdown",
   "metadata": {},
   "source": [
    "### Benchmarking Analysis\n",
    "\n",
    "TODO\n",
    "\n",
    "---"
   ]
  }
 ],
 "metadata": {
  "kernelspec": {
   "display_name": "Python 3",
   "language": "python",
   "name": "python3"
  },
  "language_info": {
   "codemirror_mode": {
    "name": "ipython",
    "version": 3
   },
   "file_extension": ".py",
   "mimetype": "text/x-python",
   "name": "python",
   "nbconvert_exporter": "python",
   "pygments_lexer": "ipython3",
   "version": "3.13.2"
  }
 },
 "nbformat": 4,
 "nbformat_minor": 2
}
