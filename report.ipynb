{
 "cells": [
  {
   "cell_type": "markdown",
   "metadata": {},
   "source": [
    "# Program 3: Maximal Substring\n",
    "## Members: Daniel Deal, Mikhal Filippov, Samuel Hohenstein\n",
    "In this programming assignment, we are to use the ideas of **dynamic programming** in order to optimize the `MaximalSubstring` algorithm. We will then test it, prove its correctness, and to runtime analysis."
   ]
  },
  {
   "cell_type": "markdown",
   "metadata": {},
   "source": [
    "### Solution Approach\n",
    "\n",
    "In our solution we use a similar method to memoization in recursion, but use loops instead of the recursion. The lengths array allows for the program to prevent repeated computations, and allows for following logic to use the values from the array already computed. The lengths array is made based on the sizes of the strings A and B, where if A was 4 letters, and B was 5 letters, the lengths array will have 5 (4+1) arrays of 6 (5+1) 0s when initiated. The first array and first index of each array are there to allow for the actual first letters of the comparisons to have something to be built off of, as for each following letter check, if the letters are the same, they add 1 to the sum of the previous value stored in the previous array and previous index. Using this when there are multiple letters inside of a word, it still allows for individual letter checks to not interfere with each other, and allows for us to save the longest substring and how long it was. When a new longest substring is found, we record how long that substring is and where it ends, which also allows us to compute where the substring starts. This substring is then what is returned at the end of our function.\n",
    "\n",
    "![functionExample.png](images/functionExample.png)\n",
    "\n",
    "In this picture string A (sapple) is compared to string B (pineapple), and the length of substrings is displayed in a matrix look at lenghts. e * e is the longest substring length is 5, where end length would be 6 (sappl(e)), using e and the previous 4 letters, the longest substring would be computed to be \"apple\".\n",
    "\n",
    "![functionExample2.png](images/functionExample2.png)\n",
    "\n",
    "In this picture string A (xyz) is compared to string B (abc), and the length of substrings is displayed in a matrix look at lenghts. The longest substring is 0, where end length would be 0 ((x)yz), using no letters making the longest substring computed to be \"\".\n",
    "\n",
    "---"
   ]
  },
  {
   "cell_type": "markdown",
   "metadata": {
    "jp-MarkdownHeadingCollapsed": true
   },
   "source": [
    "### Pseudocode\n",
    "\n",
    "```text\n",
    "FUNCTION MaxSubstring(A, B):\n",
    "    n = A.length\n",
    "    m = B.length\n",
    "    lengths = [ [0]*(m+1) ] * (n+1)\n",
    "    max_length = 0\n",
    "    end_index = 0\n",
    "\n",
    "    FOR i = 1...n DO:\n",
    "        FOR j = 1...m DO:\n",
    "            IF A[i-1] == B[j-1] THEN:\n",
    "                lengths[i][j] = lengths[i-1][j-1] + 1\n",
    "\n",
    "                IF lengths[i][j] > max_length THEN:\n",
    "                    max_length = lengths[i][j]\n",
    "                    end_index = i\n",
    "                END IF\n",
    "                \n",
    "            ELSE:\n",
    "                lengths[i][j] = 0\n",
    "            END IF\n",
    "        END FOR\n",
    "    END FOR\n",
    "\n",
    "    start_index = end_index-max_length\n",
    "    RETURN A[start_index:end_index]\n",
    "```\n",
    "\n",
    "---"
   ]
  },
  {
   "cell_type": "markdown",
   "metadata": {},
   "source": [
    "### Proof of Correctness\n",
    "- [x] always generates a correct result when it halts (end of string comparisons)\n",
    "- [x] proven to terminate\n",
    "\n",
    "The algorithm is proven to be correct when it halts as it checks every substring comparison between the two strings by recording the place of the individual substring comparisons and building upon it. The first longest substring will be returned upon termination, which is what the Maxmimal Substring function seeks to accomplish. This algorithm will always terminate once it has looped through each letter in A, and compared it to each letter in B. Once this is accomplished, the loops terminate and the longest substring is calculated and returned.\n",
    "\n",
    "---\n",
    "More formally, we can define the **invariant** to be: At any `(i, j)`, `lengths[i][j]` contains the length of the longest common substring ending at `A[i-1]` and `B[j-1]`.\n",
    "\n",
    "**Base case** states: When `i = 0` and `j = 0`, `lengths[i][j] = 0` will hold true because empty strings do not have any matching substrings.\n",
    "\n",
    "**Maintenance** states: We assume, through strong induction, that all `k` and `g`, for `k < i` and `g < j`, are correct. Then, at `i` and `j`, we reach two cases:\n",
    "1. If `A[i-1] == B[j-1]`, the longest substring adds on at `lengths[i][j]` by using the previous `lengths[i-1][j-1]`, which are included in `k` and `g` as stated in the strong induction. Furthermore, we compare `max_length` against the current `lengths[i][j]` and store that in `max_length` if the current length is longer, storing the end index as well.\n",
    "2. If `A[i-1] != B[j-1]`, the previous substring ends and we update `lengths[i][j] = 0`.\n",
    "\n",
    "**Termination**: `k` and `g` eventually reach `i` and `j`, proving the loops terminate as they have a set end condition to count up towards.\n",
    "\n",
    "---"
   ]
  },
  {
   "cell_type": "markdown",
   "metadata": {},
   "source": [
    "### Test Cases\n",
    "\n",
    "| TEST CASE                             |  EXPECTED  |   ACTUAL  |\n",
    "| ------------------------------------- | ---------- | --------- |\n",
    "| Common Test: `\"pineapple\", \"apple\"` | `\"apple\"`  | `\"apple\"` |\n",
    "| Common Test: `\"banana\", \"apple\"`    | `\"a\"`      | `\"a\"`     |\n",
    "| Common Test: `\"orange\", \"banana\"`   | `\"an\"`     | `\"an\"`    |\n",
    "| No Common Test: `\"xyz\", \"abc\"`         | `\"\"`       | `\"\"`      |\n",
    "| Identical Test: `\"hello\", \"hello\"`     | `\"hello\"`  | `\"hello\"` |\n",
    "| Single Character: `\"x\", \"x\"`             | `\"x\"`      | `\"x\"`     |\n",
    "| Single Character: `\"x\", \"y\"`             | `\"\"`       | `\"\"`      |\n",
    "| At Start: `\"abcdef\", \"abc\"`      | `\"abc\"`    | `\"abc\"`   |\n",
    "| At End: `\"abcdef\", \"def\"`      | `\"def\"`    | `\"def\"`   |\n",
    "| In Middle: `\"abcdef\", \"cde\"`      | `\"cde\"`    | `\"cde\"`   |\n",
    "| Large String: `\"a\" * 1000 + \"bcd\", \"xyz\" + \"bcd\"` | `\"bcd\"`   | `\"bcd\"`     |\n",
    "| Empty Strings: `\"\", \"abc\"`            | `\"\"`       | `\"\"`      |\n",
    "| Empty Strings: `\"abc\", \"\"`            | `\"\"`       | `\"\"`      |\n",
    "| Empty Strings: `\"\", \"\"`               | `\"\"`       | `\"\"`      |\n",
    "\n",
    "\n",
    "---"
   ]
  },
  {
   "cell_type": "markdown",
   "metadata": {},
   "source": [
    "### Runtime Analysis\n",
    "\n",
    "The runtime for this algorithm is trivial. We have a few initializations, then a loop looping from `1` to `n + 1` (or, `n` times). Then, for each iteration of that loop, another loop loops from `1` to `m + 1` (or, `m` times). Inside that second loop are just constant operations. So, for each `n`, we (asymptotically) run `m` operations, meaning the runtime for this algorithm is `O(n * m)`.\n",
    "\n",
    "---"
   ]
  },
  {
   "cell_type": "markdown",
   "metadata": {},
   "source": [
    "### Benchmarking Analysis\n",
    "\n",
    "Benchmarking *only* our algorithm and graphing the results on a 3d graph (n as x, m as y, and runtime for the input as z), we see the following:\n",
    "\n",
    "![original.png](images/original.png)\n",
    "\n",
    "The image got a bit cut off (not sure why), but it is obvious to see that the actual runtime of the algorithm matches our theoretical runtime of `O(n * m)`.  \n",
    "#### Benchmark Results Table:\n",
    "| Length of a (n) | Length of b (m) |  DP Time (s) |\n",
    "| -----           | -----           |  ------      |\n",
    "|           1000       |      1000   |  0.061971|\n",
    "|            1000       |      5000  |   0.338203|\n",
    "|            1000        |    10000  |   0.646735|\n",
    " |           1000        |    20000  |   1.268512|\n",
    " |           5000       |      1000  |   0.319783|\n",
    " |           5000       |      5000  |   1.642981|\n",
    "|            5000       |     10000  |   3.297931|\n",
    " |           5000       |     20000  |   6.691123|\n",
    " |          10000       |      1000  |   0.634248|\n",
    " |          10000       |      5000  |   3.365077|\n",
    "  |         10000       |     10000  |   6.946464|\n",
    " |          10000       |     20000  |  13.723189|\n",
    " |          20000      |       1000  |   1.289206|\n",
    " |          20000      |       5000 |    6.793251|\n",
    " |          20000       |     10000  |  13.657638|\n",
    " |          20000       |     20000  |  27.163658|\n",
    "\n",
    "To further enforce this, we can graph (and compare) runtimes of a brute force implementation (in the appendix under `Brute Force Implementation`):\n",
    "\n",
    "![comparison.png](images/comparison.png)\n",
    "\n",
    "The brute force implementation is obviously `O(n^2 * m)` asymptotic runtime (explained in the `Problem` section of this assignment), and that is reflected in the graph of the algorithm. Meanwhile, our implementation sits comfortably lower than the brute force implementation, showing effective use of memoization to optimize the runtime.\n",
    "\n",
    "---"
   ]
  }
 ],
 "metadata": {
  "kernelspec": {
   "display_name": "Python [conda env:base] *",
   "language": "python",
   "name": "conda-base-py"
  },
  "language_info": {
   "codemirror_mode": {
    "name": "ipython",
    "version": 3
   },
   "file_extension": ".py",
   "mimetype": "text/x-python",
   "name": "python",
   "nbconvert_exporter": "python",
   "pygments_lexer": "ipython3",
   "version": "3.12.7"
  }
 },
 "nbformat": 4,
 "nbformat_minor": 4
}
