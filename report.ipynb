{
 "cells": [
  {
   "cell_type": "markdown",
   "metadata": {},
   "source": [
    "# Program 3: Maximal Substring\n",
    "## Members: Daniel Deal, Mikhal Filippov, Samuel Hohenstein\n",
    "In this programming assignment, we are to use the ideas of **dynamic programming** in order to optimize the `MaximalSubstring` algorithm. We will then test it, prove its correctness, and to runtime analysis."
   ]
  },
  {
   "cell_type": "markdown",
   "metadata": {},
   "source": [
    "### Solution Approach\n",
    "\n",
    "TODO\n",
    "\n",
    "---"
   ]
  },
  {
   "cell_type": "markdown",
   "metadata": {},
   "source": [
    "### Pseudocode\n",
    "\n",
    "```text\n",
    "FUNCTION MaxSubstring(A, B):\n",
    "    n = A.length\n",
    "    m = B.length\n",
    "    lengths = [ [0]*(m+1) ] * (n+1)\n",
    "    max_length = 0\n",
    "    end_index = 0\n",
    "\n",
    "    FOR i = 1...n DO:\n",
    "        FOR j = 1...m DO:\n",
    "            IF A[i-1] == B[j-1] THEN:\n",
    "                lengths[i][j] = lengths[i-1][j-1] + 1\n",
    "\n",
    "                IF lengths[i][j] > max_length THEN:\n",
    "                    max_length = lengths[i][j]\n",
    "                    end_index = i\n",
    "                END IF\n",
    "                \n",
    "            ELSE:\n",
    "                lengths[i][j] = 0\n",
    "            END IF\n",
    "        END FOR\n",
    "    END FOR\n",
    "\n",
    "    start_index = end_index-max_length\n",
    "    RETURN A[start_index:end_index]\n",
    "```\n",
    "\n",
    "---"
   ]
  },
  {
   "cell_type": "markdown",
   "metadata": {},
   "source": [
    "### Proof of Correctness\n",
    "\n",
    "TODO\n",
    "\n",
    "---"
   ]
  },
  {
   "cell_type": "markdown",
   "metadata": {},
   "source": [
    "### Test Cases\n",
    "\n",
    "| TEST CASE                             |  EXPECTED  |   ACTUAL  |\n",
    "| ------------------------------------- | ---------- | --------- |\n",
    "| Common Test: `\"pineapple\", \"apple\"` | `\"apple\"`  | `\"apple\"` |\n",
    "| Common Test: `\"banana\", \"apple\"`    | `\"a\"`      | `\"a\"`     |\n",
    "| Common Test: `\"orange\", \"banana\"`   | `\"an\"`     | `\"an\"`    |\n",
    "| No Common Test: `\"xyz\", \"abc\"`         | `\"\"`       | `\"\"`      |\n",
    "| Identical Test: `\"hello\", \"hello\"`     | `\"hello\"`  | `\"hello\"` |\n",
    "| Single Character: `\"x\", \"x\"`             | `\"x\"`      | `\"x\"`     |\n",
    "| Single Character: `\"x\", \"y\"`             | `\"\"`       | `\"\"`      |\n",
    "| At Start: `\"abcdef\", \"abc\"`      | `\"abc\"`    | `\"abc\"`   |\n",
    "| At End: `\"abcdef\", \"def\"`      | `\"def\"`    | `\"def\"`   |\n",
    "| In Middle: `\"abcdef\", \"cde\"`      | `\"cde\"`    | `\"cde\"`   |\n",
    "| Large String: `\"a\" * 1000 + \"bcd\", \"xyz\" + \"bcd\"` | `\"bcd\"`   | `\"bcd\"`     |\n",
    "| Empty Strings: `\"\", \"abc\"`            | `\"\"`       | `\"\"`      |\n",
    "| Empty Strings: `\"abc\", \"\"`            | `\"\"`       | `\"\"`      |\n",
    "| Empty Strings: `\"\", \"\"`               | `\"\"`       | `\"\"`      |\n",
    "\n",
    "\n",
    "---"
   ]
  },
  {
   "cell_type": "markdown",
   "metadata": {},
   "source": [
    "### Runtime Analysis\n",
    "\n",
    "The runtime for this algorithm is trivial. We have a few initializations, then a loop looping from `1` to `n + 1` (or, `n` times). Then, for each iteration of that loop, another loop loops from `1` to `m + 1` (or, `m` times). Inside that second loop are just constant operations. So, for each `n`, we (asymptotically) run `m` operations, meaning the runtime for this algorithm is `O(n * m)`.\n",
    "\n",
    "---"
   ]
  },
  {
   "cell_type": "markdown",
   "metadata": {},
   "source": [
    "### Benchmarking Analysis\n",
    "\n",
    "Benchmarking *only* our algorithm and graphing the results on a 3d graph (n as x, m as y, and runtime for the input as z), we see the following:\n",
    "\n",
    "![original.png](images/original.png)\n",
    "\n",
    "The image got a bit cut off (not sure why), but it is obvious to see that the actual runtime of the algorithm matches our theoretical runtime of `O(n * m)`. To further enforce this, we can graph (and compare) runtimes of a brute force implementation (in the appendix under `Brute Force Implementation`):\n",
    "\n",
    "![comparison.png](images/comparison.png)\n",
    "\n",
    "The brute force implementation is obviously `O(n^2 * m)` asymptotic runtime (explained in the `Problem` section of this assignment), and that is reflected in the graph of the algorithm. Meanwhile, our implementation sits comfortably lower than the brute force implementation, showing effective use of memoization to optimize the runtime.\n",
    "\n",
    "---"
   ]
  }
 ],
 "metadata": {
  "kernelspec": {
   "display_name": "Python 3",
   "language": "python",
   "name": "python3"
  },
  "language_info": {
   "codemirror_mode": {
    "name": "ipython",
    "version": 3
   },
   "file_extension": ".py",
   "mimetype": "text/x-python",
   "name": "python",
   "nbconvert_exporter": "python",
   "pygments_lexer": "ipython3",
   "version": "3.13.2"
  }
 },
 "nbformat": 4,
 "nbformat_minor": 2
}
