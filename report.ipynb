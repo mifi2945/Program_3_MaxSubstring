{
 "cells": [
  {
   "cell_type": "markdown",
   "metadata": {},
   "source": [
    "# Program 3: Maximal Substring\n",
    "## Members: Daniel Deal, Mikhal Filippov, Samuel Hohenstein\n",
    "In this programming assignment, we are to use the ideas of **dynamic programming** in order to optimize the `MaximalSubstring` algorithm. We will then test it, prove its correctness, and to runtime analysis."
   ]
  },
  {
   "cell_type": "markdown",
   "metadata": {},
   "source": [
    "### Solution Approach\n",
    "\n",
    "TODO\n",
    "\n",
    "---"
   ]
  },
  {
   "cell_type": "markdown",
   "metadata": {},
   "source": [
    "### Pseudocode\n",
    "\n",
    "```text\n",
    "FUNCTION MaxSubstring(A, B):\n",
    "    n = A.length\n",
    "    m = B.length\n",
    "    lengths = [ [0]*(m+1) ] * (n+1)\n",
    "    max_length = 0\n",
    "    end_index = 0\n",
    "\n",
    "    FOR i = 1...n DO:\n",
    "        FOR j = 1...m DO:\n",
    "            IF A[i-1] == B[j-1] THEN:\n",
    "                lengths[i][j] = lengths[i-1][j-1] + 1\n",
    "\n",
    "                IF lengths[i][j] > max_length THEN:\n",
    "                    max_length = lengths[i][j]\n",
    "                    end_index = i\n",
    "                END IF\n",
    "                \n",
    "            ELSE:\n",
    "                lengths[i][j] = 0\n",
    "            END IF\n",
    "        END FOR\n",
    "    END FOR\n",
    "\n",
    "    start_index = end_index-max_length\n",
    "    RETURN A[start_index:end_index]\n",
    "```\n",
    "\n",
    "---"
   ]
  },
  {
   "cell_type": "markdown",
   "metadata": {},
   "source": [
    "### Proof of Correctness\n",
    "\n",
    "TODO\n",
    "\n",
    "---"
   ]
  },
  {
   "cell_type": "markdown",
   "metadata": {},
   "source": [
    "### Test Cases\n",
    "\n",
    "| TEST CASE                             |  EXPECTED  |   ACTUAL  |\n",
    "| ------------------------------------- | ---------- | --------- |\n",
    "| Common Test: `\"pineapple\", \"apple\"` | `\"apple\"`  | `\"apple\"` |\n",
    "| Common Test: `\"banana\", \"apple\"`    | `\"a\"`      | `\"a\"`     |\n",
    "| Common Test: `\"orange\", \"banana\"`   | `\"an\"`     | `\"an\"`    |\n",
    "| No Common Test: `\"xyz\", \"abc\"`         | `\"\"`       | `\"\"`      |\n",
    "| Identical Test: `\"hello\", \"hello\"`     | `\"hello\"`  | `\"hello\"` |\n",
    "| Single Character: `\"x\", \"x\"`             | `\"x\"`      | `\"x\"`     |\n",
    "| Single Character: `\"x\", \"y\"`             | `\"\"`       | `\"\"`      |\n",
    "| At Start: `\"abcdef\", \"abc\"`      | `\"abc\"`    | `\"abc\"`   |\n",
    "| At End: `\"abcdef\", \"def\"`      | `\"def\"`    | `\"def\"`   |\n",
    "| In Middle: `\"abcdef\", \"cde\"`      | `\"cde\"`    | `\"cde\"`   |\n",
    "| Large String: `\"a\" * 1000 + \"bcd\", \"xyz\" + \"bcd\"` | `\"bcd\"`   | `\"bcd\"`     |\n",
    "| Empty Strings: `\"\", \"abc\"`            | `\"\"`       | `\"\"`      |\n",
    "| Empty Strings: `\"abc\", \"\"`            | `\"\"`       | `\"\"`      |\n",
    "| Empty Strings: `\"\", \"\"`               | `\"\"`       | `\"\"`      |\n",
    "\n",
    "\n",
    "---"
   ]
  },
  {
   "cell_type": "markdown",
   "metadata": {},
   "source": [
    "### Runtime Analysis\n",
    "\n",
    "The runtime for this algorithm is trivial. We have a few initializations, then a loop looping from `1` to `n + 1` (or, `n` times). Then, for each iteration of that loop, another loop loops from `1` to `m + 1` (or, `m` times). Inside that second loop are just constant operations. So, for each `n`, we (asymptotically) run `m` operations, meaning the runtime for this algorithm is `O(n * m)`.\n",
    "\n",
    "---"
   ]
  },
  {
   "cell_type": "markdown",
   "metadata": {},
   "source": [
    "### Benchmarking Analysis\n",
    "\n",
    "Benchmarking *only* our algorithm and graphing the results on a 3d graph (n as x, m as y, and runtime for the input as z), we see the following:\n",
    "\n",
    "| Length of a (n) | Length of b (m) | DP Time (s) |\n",
    "|----------------:|----------------:|------------:|\n",
    "|            1000 |            1000 |     0.061971 |\n",
    "|            1000 |            5000 |     0.338203 |\n",
    "|            1000 |           10000 |     0.646735 |\n",
    "|            1000 |           20000 |     1.268512 |\n",
    "|            5000 |            1000 |     0.319783 |\n",
    "|            5000 |            5000 |     1.642981 |\n",
    "|            5000 |           10000 |     3.297931 |\n",
    "|            5000 |           20000 |     6.691123 |\n",
    "|           10000 |            1000 |     0.634248 |\n",
    "|           10000 |            5000 |     3.365077 |\n",
    "|           10000 |           10000 |     6.946464 |\n",
    "|           10000 |           20000 |    13.723189 |\n",
    "|           20000 |            1000 |     1.289206 |\n",
    "|           20000 |            5000 |     6.793251 |\n",
    "|           20000 |           10000 |    13.657638 |\n",
    "|           20000 |           20000 |    27.163658 |\n",
    "\n",
    "\n",
    "<Figure size 1000x700 with 1 Axes>\n",
    "\n",
    "![original.png](images/original.png)\n",
    "\n",
    "The image got a bit cut off (not sure why), but it is obvious to see that the actual runtime of the algorithm matches our theoretical runtime of `O(n * m)`. To further enforce this, we can graph (and compare) runtimes of a brute force implementation (in the benchmarking section as `max_substring_brute_force`):\n",
    "\n",
    "| Length of a (n) | Length of b (m) | DP Time (s) | Brute Force Time (s) |\n",
    "|----------------:|----------------:|------------:|----------------------:|\n",
    "|            1000 |            1000 |     0.063879 |              0.221848 |\n",
    "|            1000 |            5000 |     0.327189 |              0.541831 |\n",
    "|            1000 |           10000 |     0.642997 |              0.737162 |\n",
    "|            1000 |           20000 |     1.279871 |              1.149632 |\n",
    "|            5000 |            1000 |     0.321121 |              2.863822 |\n",
    "|            5000 |            5000 |     1.678145 |             24.074648 |\n",
    "|            5000 |           10000 |     3.289319 |             36.892465 |\n",
    "|            5000 |           20000 |     6.645071 |             45.566394 |\n",
    "|           10000 |            1000 |     0.703560 |              8.816302 |\n",
    "|           10000 |            5000 |     3.381867 |             76.383701 |\n",
    "|           10000 |           10000 |     6.622522 |            179.157098 |\n",
    "|           10000 |           20000 |    13.175427 |            282.339813 |\n",
    "|           20000 |            1000 |     1.289436 |             36.998075 |\n",
    "|           20000 |            5000 |     6.588164 |            196.551588 |\n",
    "|           20000 |           10000 |    13.423321 |            579.405687 |\n",
    "|           20000 |           20000 |    27.417960 |           1404.424452 |\n",
    "\n",
    "![comparison.png](images/comparison.png)\n",
    "\n",
    "The brute force implementation is obviously `O(n^2)` asymptotic runtime (explained in the `Problem` section of this assignment), and that is reflected in the graph of the algorithm. Meanwhile, our implementation sits comfortably lower than the brute force implementation, showing effective use of memoization to optimize the runtime.\n",
    "\n",
    "---"
   ]
  }
 ],
 "metadata": {
  "kernelspec": {
   "display_name": "Python 3",
   "language": "python",
   "name": "python3"
  },
  "language_info": {
   "codemirror_mode": {
    "name": "ipython",
    "version": 3
   },
   "file_extension": ".py",
   "mimetype": "text/x-python",
   "name": "python",
   "nbconvert_exporter": "python",
   "pygments_lexer": "ipython3",
   "version": "3.13.2"
  }
 },
 "nbformat": 4,
 "nbformat_minor": 2
}
