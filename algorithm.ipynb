{
 "cells": [
  {
   "cell_type": "markdown",
   "metadata": {},
   "source": [
    "### Algorithm Implemented"
   ]
  },
  {
   "cell_type": "code",
   "execution_count": 11,
   "metadata": {},
   "outputs": [],
   "source": [
    "def max_substring(a: str, b: str) -> str:\n",
    "    n =len(a)\n",
    "    m = len(b)\n",
    "    dp = [[0] * (m + 1) for x in range(n + 1)]\n",
    "    max_length = 0\n",
    "    end_index = 0\n",
    "\n",
    "    for i in range(1, n + 1):\n",
    "        for j in range(1, m + 1):\n",
    "            if a[i - 1] == b[j - 1]:\n",
    "                dp[i][j] = dp[i - 1][j - 1] + 1\n",
    "                if dp[i][j] > max_length:\n",
    "                    max_length = dp[i][j]\n",
    "                    end_index = i\n",
    "            else:\n",
    "                dp[i][j] = 0\n",
    "    \n",
    "    return a[end_index - max_length:end_index]"
   ]
  },
  {
   "cell_type": "code",
   "execution_count": 14,
   "metadata": {},
   "outputs": [
    {
     "name": "stdout",
     "output_type": "stream",
     "text": [
      "apple\n"
     ]
    }
   ],
   "source": [
    "# simple test\n",
    "print(max_substring(\"apple\", \"pineapple\")) # \"apple\""
   ]
  },
  {
   "cell_type": "markdown",
   "metadata": {},
   "source": [
    "### Testing"
   ]
  },
  {
   "cell_type": "code",
   "execution_count": 27,
   "metadata": {},
   "outputs": [],
   "source": [
    "import unittest\n",
    "\n",
    "class TestAlgo(unittest.TestCase):\n",
    "    def test_common_substring(self):\n",
    "        self.assertEqual(max_substring(\"pineapple\", \"apple\"), \"apple\")\n",
    "        self.assertEqual(max_substring(\"banana\", \"apple\"), \"a\")\n",
    "        self.assertEqual(max_substring(\"orange\", \"banana\"), \"an\")\n",
    "    \n",
    "    def test_no_common_substring(self):\n",
    "        self.assertEqual(max_substring(\"xyz\", \"abc\"), \"\")\n",
    "    \n",
    "    def test_identical_strings(self):\n",
    "        self.assertEqual(max_substring(\"hello\", \"hello\"), \"hello\")\n",
    "    \n",
    "    def test_single_character_overlap(self):\n",
    "        self.assertEqual(max_substring(\"x\", \"x\"), \"x\")\n",
    "        self.assertEqual(max_substring(\"x\", \"y\"), \"\")\n",
    "    \n",
    "    def test_substring_at_start(self):\n",
    "        self.assertEqual(max_substring(\"abcdef\", \"abc\"), \"abc\")\n",
    "    \n",
    "    def test_substring_at_end(self):\n",
    "        self.assertEqual(max_substring(\"abcdef\", \"def\"), \"def\")\n",
    "\n",
    "    def test_substring_in_middle(self):\n",
    "        self.assertEqual(max_substring(\"abcdef\", \"cde\"), \"cde\")\n",
    "    \n",
    "    def test_large_strings(self):\n",
    "        self.assertEqual(max_substring(\"a\" * 1000 + \"bcd\", \"xyz\" + \"bcd\"), \"bcd\")\n",
    "\n",
    "    def test_empty_string(self):\n",
    "        self.assertEqual(max_substring(\"\", \"abc\"), \"\")\n",
    "        self.assertEqual(max_substring(\"abc\", \"\"), \"\")\n",
    "        self.assertEqual(max_substring(\"\", \"\"), \"\")"
   ]
  },
  {
   "cell_type": "code",
   "execution_count": 28,
   "metadata": {},
   "outputs": [
    {
     "name": "stderr",
     "output_type": "stream",
     "text": [
      ".........\n",
      "----------------------------------------------------------------------\n",
      "Ran 9 tests in 0.011s\n",
      "\n",
      "OK\n"
     ]
    },
    {
     "data": {
      "text/plain": [
       "<unittest.main.TestProgram at 0x15afbdd7750>"
      ]
     },
     "execution_count": 28,
     "metadata": {},
     "output_type": "execute_result"
    }
   ],
   "source": [
    "# test\n",
    "unittest.main(argv=[''], exit=False)"
   ]
  }
 ],
 "metadata": {
  "kernelspec": {
   "display_name": "Python 3",
   "language": "python",
   "name": "python3"
  },
  "language_info": {
   "codemirror_mode": {
    "name": "ipython",
    "version": 3
   },
   "file_extension": ".py",
   "mimetype": "text/x-python",
   "name": "python",
   "nbconvert_exporter": "python",
   "pygments_lexer": "ipython3",
   "version": "3.13.2"
  }
 },
 "nbformat": 4,
 "nbformat_minor": 2
}
